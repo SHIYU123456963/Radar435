{
 "cells": [
  {
   "cell_type": "code",
   "execution_count": 1,
   "metadata": {},
   "outputs": [],
   "source": [
    "# Radar signal simulator\n",
    "# ECE 435/535 Winter 2020\n",
    "# -------------------\n",
    "# George P. Burdell\n",
    "# Bell Georgina  \n",
    "# Date: \n",
    "# -------------------\n",
    "# Description of add ons \n",
    "\n",
    "'''\n",
    "Method: -- this is a script..\n",
    "1 - Create a pulse train from Transmitter\n",
    "2 - Generate a list of targets, (Range, RCS)\n",
    "3 - Generate return pulses for each of the targets into a single train\n",
    "4 - Attenuate 1 to reasonable power level\n",
    "5 - Add 3+4\n",
    "6 - Add AGWN to 5\n",
    "7 - Apply detection method\n",
    "'''\n",
    "\n",
    "from matplotlib import pyplot as plt\n",
    "import numpy as np\n",
    "import scipy.signal as sig\n",
    "\n",
    "# Custom libraries\n",
    "import pulsetrain as pt\n",
    "import pulsenoise as pn\n",
    "import detection as det\n",
    "\n",
    "# Student Libary\n",
    "import lastname as GPD # Intials (George P. Burdell)\n"
   ]
  },
  {
   "cell_type": "markdown",
   "metadata": {},
   "source": [
    "## Student Custom Library "
   ]
  },
  {
   "cell_type": "code",
   "execution_count": 2,
   "metadata": {},
   "outputs": [
    {
     "name": "stdout",
     "output_type": "stream",
     "text": [
      "23 1939 Chain Home\n",
      "\n",
      "================\n",
      "42 23\n"
     ]
    }
   ],
   "source": [
    "def myfuction(var1, var2='1942', var3='Chain Home'):\n",
    "    print(var1, var2, var3)\n",
    "    x = 42\n",
    "    return x, var1\n",
    "\n",
    "# usage\n",
    "derp0, derp1 = myfuction(23,'1939')\n",
    "print('\\n================')\n",
    "print(derp0, derp1)"
   ]
  },
  {
   "cell_type": "markdown",
   "metadata": {},
   "source": [
    "### Setup the RADAR parameters"
   ]
  },
  {
   "cell_type": "code",
   "execution_count": 3,
   "metadata": {},
   "outputs": [],
   "source": [
    "Pavg = 100e3        # Basic Power level output of the radar\n",
    "Gt = 15             # Scalar Gain of TX antenna\n",
    "Gr = Gt             # Scalar Gain of RX antenna  if Gr == Gt same antenna\n",
    "fc = 40e6           # Carrier Frequency, Center Frequency\n",
    "vp = 3e8            # Phase Velocity of the EM wave\n",
    "NF = 1              # Receiver Noise Figure\n",
    "T  = 1/fc           # period of one Carrier Frequency\n",
    "#derived values\n",
    "Lambda = vp/fc\n",
    "\n",
    "# Setup Time portion\n",
    "PRF = 500           # Pulses per second (hertz)\n",
    "PRI = 1/PRF         # Pulse Repetition Interval (seconds)\n",
    "R_unamb = PRI *vp/2 # Unambiguous Range\n",
    "\n",
    "#Num cycles per pulse packet\n",
    "k = 100             # k cycles of fc in the pulse packet\n",
    "PW = k*T            # k cycles * Period of fc\n",
    "BW = 1/PW           # Bandwidth of the RADAR Pulse\n",
    "# error check\n",
    "if PW >= PRI:\n",
    "    print('Error: Pulse width much too long -- PRI: {}, PW = {}'.format(PRI, PW))\n"
   ]
  },
  {
   "cell_type": "markdown",
   "metadata": {},
   "source": [
    "### Find R-max, R-umabigous"
   ]
  },
  {
   "cell_type": "code",
   "execution_count": 4,
   "metadata": {},
   "outputs": [
    {
     "name": "stdout",
     "output_type": "stream",
     "text": [
      "Rmax(SNR:1, RCS:1) \t= 141.16 km\n",
      "R unambigouse \t\t= 300.00km\n"
     ]
    }
   ],
   "source": [
    "# calculate maximum range with SNR = 1, n Observations = 1\n",
    "SNRmin = 1\n",
    "RCS = 1\n",
    "Rmax = pt.calcRmax(Pavg,Gt,Gr,Lambda, BW, SNRmin = SNRmin, RCS = RCS) #, RCS, T, NF = 1,L=1, SNRmin=1)\n",
    "print('Rmax(SNR:{}, RCS:{}) \\t= {:.02f} km'.format(SNRmin, RCS, Rmax/1e3))\n",
    "print('R unambigouse \\t\\t= {:.02f}km'.format(R_unamb/1e3))\n"
   ]
  },
  {
   "cell_type": "markdown",
   "metadata": {},
   "source": [
    "# Setup the testing enviroment"
   ]
  },
  {
   "cell_type": "code",
   "execution_count": 5,
   "metadata": {},
   "outputs": [],
   "source": [
    "num_targets = 10\n",
    "\n",
    "target_ranges = np.random.randint(Rmax//4,Rmax,num_targets)\n",
    "target_rcs = np.random.randint(1,1000,num_targets)\n"
   ]
  },
  {
   "cell_type": "markdown",
   "metadata": {},
   "source": [
    "#### Time series Constraints"
   ]
  },
  {
   "cell_type": "code",
   "execution_count": 6,
   "metadata": {},
   "outputs": [],
   "source": [
    "K_pulses = 20 # how many PRI's get simulated\n",
    "dt_k = 20 # how many samples per fc period (Tc)"
   ]
  },
  {
   "cell_type": "markdown",
   "metadata": {},
   "source": [
    "#### Build the sample Pulse Train and examine"
   ]
  },
  {
   "cell_type": "code",
   "execution_count": 7,
   "metadata": {},
   "outputs": [
    {
     "name": "stdout",
     "output_type": "stream",
     "text": [
      "=*=*=*=*=*=*=*=*=*=*=*=*=*=*=*=*=*=*=*=*=*=*=*=*=*=*=*=*=*=*=*=*=*=*=*=*=*=*=*=*\n",
      "Amplitude -100.00 dBm, fc:40000000.0, k:100, PRI:0.002, dt_k:20, K_pulses:20 \n"
     ]
    }
   ],
   "source": [
    "# Make a signal smaller in amplitude to simulate the \n",
    "# blanking / attenuation in normal RADAR systems\n",
    "\n",
    "\n",
    "attenuate = True\n",
    "if attenuate == True:\n",
    "    dBm = -100 #dBm\n",
    "    scalar = 1e-3 * np.power(10,(dBm/10))\n",
    "else:\n",
    "    scalar = Pavg\n",
    "    \n",
    "main_train, PW, dt, len_PRI = pt.createPulseTrain(A=scalar,fc = fc, k=k, PRI=PRI, dt_k=dt_k, K_pulses = K_pulses)\n",
    "\n"
   ]
  },
  {
   "cell_type": "markdown",
   "metadata": {},
   "source": [
    "### Create the target reflections"
   ]
  },
  {
   "cell_type": "code",
   "execution_count": 8,
   "metadata": {},
   "outputs": [
    {
     "name": "stdout",
     "output_type": "stream",
     "text": [
      ":: idx: 0 Power at RX 80.0 dBm @ range: 76685 rmax 300000.0\n",
      "=*=*=*=*=*=*=*=*=*=*=*=*=*=*=*=*=*=*=*=*=*=*=*=*=*=*=*=*=*=*=*=*=*=*=*=*=*=*=*=*\n",
      "Amplitude -95.96 dBm, fc:40000000.0, k:100, PRI:0.002, dt_k:20, K_pulses:20 \n",
      "408986\n",
      ":: idx: 1 Power at RX 80.0 dBm @ range: 106290 rmax 300000.0\n",
      "=*=*=*=*=*=*=*=*=*=*=*=*=*=*=*=*=*=*=*=*=*=*=*=*=*=*=*=*=*=*=*=*=*=*=*=*=*=*=*=*\n",
      "Amplitude -95.97 dBm, fc:40000000.0, k:100, PRI:0.002, dt_k:20, K_pulses:20 \n",
      "566880\n",
      ":: idx: 2 Power at RX 80.0 dBm @ range: 89912 rmax 300000.0\n",
      "=*=*=*=*=*=*=*=*=*=*=*=*=*=*=*=*=*=*=*=*=*=*=*=*=*=*=*=*=*=*=*=*=*=*=*=*=*=*=*=*\n",
      "Amplitude -86.03 dBm, fc:40000000.0, k:100, PRI:0.002, dt_k:20, K_pulses:20 \n",
      "479530\n",
      ":: idx: 3 Power at RX 80.0 dBm @ range: 117537 rmax 300000.0\n",
      "=*=*=*=*=*=*=*=*=*=*=*=*=*=*=*=*=*=*=*=*=*=*=*=*=*=*=*=*=*=*=*=*=*=*=*=*=*=*=*=*\n",
      "Amplitude -91.32 dBm, fc:40000000.0, k:100, PRI:0.002, dt_k:20, K_pulses:20 \n",
      "626864\n",
      ":: idx: 4 Power at RX 80.0 dBm @ range: 118031 rmax 300000.0\n",
      "=*=*=*=*=*=*=*=*=*=*=*=*=*=*=*=*=*=*=*=*=*=*=*=*=*=*=*=*=*=*=*=*=*=*=*=*=*=*=*=*\n",
      "Amplitude -92.35 dBm, fc:40000000.0, k:100, PRI:0.002, dt_k:20, K_pulses:20 \n",
      "629498\n",
      ":: idx: 5 Power at RX 80.0 dBm @ range: 135536 rmax 300000.0\n",
      "=*=*=*=*=*=*=*=*=*=*=*=*=*=*=*=*=*=*=*=*=*=*=*=*=*=*=*=*=*=*=*=*=*=*=*=*=*=*=*=*\n",
      "Amplitude -93.47 dBm, fc:40000000.0, k:100, PRI:0.002, dt_k:20, K_pulses:20 \n",
      "722858\n",
      ":: idx: 6 Power at RX 80.0 dBm @ range: 78188 rmax 300000.0\n",
      "=*=*=*=*=*=*=*=*=*=*=*=*=*=*=*=*=*=*=*=*=*=*=*=*=*=*=*=*=*=*=*=*=*=*=*=*=*=*=*=*\n",
      "Amplitude -97.15 dBm, fc:40000000.0, k:100, PRI:0.002, dt_k:20, K_pulses:20 \n",
      "417002\n",
      ":: idx: 7 Power at RX 80.0 dBm @ range: 57282 rmax 300000.0\n",
      "=*=*=*=*=*=*=*=*=*=*=*=*=*=*=*=*=*=*=*=*=*=*=*=*=*=*=*=*=*=*=*=*=*=*=*=*=*=*=*=*\n",
      "Amplitude -92.07 dBm, fc:40000000.0, k:100, PRI:0.002, dt_k:20, K_pulses:20 \n",
      "305504\n",
      ":: idx: 8 Power at RX 80.0 dBm @ range: 94387 rmax 300000.0\n",
      "=*=*=*=*=*=*=*=*=*=*=*=*=*=*=*=*=*=*=*=*=*=*=*=*=*=*=*=*=*=*=*=*=*=*=*=*=*=*=*=*\n",
      "Amplitude -82.03 dBm, fc:40000000.0, k:100, PRI:0.002, dt_k:20, K_pulses:20 \n",
      "503397\n",
      ":: idx: 9 Power at RX 80.0 dBm @ range: 48825 rmax 300000.0\n",
      "=*=*=*=*=*=*=*=*=*=*=*=*=*=*=*=*=*=*=*=*=*=*=*=*=*=*=*=*=*=*=*=*=*=*=*=*=*=*=*=*\n",
      "Amplitude -97.58 dBm, fc:40000000.0, k:100, PRI:0.002, dt_k:20, K_pulses:20 \n",
      "260400\n"
     ]
    }
   ],
   "source": [
    "# Now we create the returns...\n",
    "main_trace = np.zeros_like(main_train) # return without TX\n",
    "\n",
    "for idx, target_range in enumerate(target_ranges):\n",
    "\n",
    "    pwr, dbm = pt.RadarEquationAdv(Pavg, Gt, target_range, RCS, Gr, Lambda, dB=False)\n",
    "    print(':: idx: {} Power at RX {} dBm @ range: {} rmax {}'.format(idx,(10*np.log10(Pavg/1e-3)),\n",
    "                                                                     target_range, R_unamb ))\n",
    "    p_train, PW, dt, len_PRI = pt.createPulseTrain(A=pwr,fc = fc, k=k, PRI=PRI,\n",
    "                                                   dt_k=dt_k, K_pulses = np.int(K_pulses))\n",
    "    # time shift to correct spot\n",
    "    p_train = pt.timeShift(p_train, target_range,vp, dt, len_PRI)\n",
    "    main_trace = main_trace + p_train"
   ]
  },
  {
   "cell_type": "markdown",
   "metadata": {},
   "source": [
    "#### Merge the Transmitter Pulse train (main_train) with the reflected signals (main_trace)\n",
    "\n",
    "#### add AWGN to the total Pulse train with returns"
   ]
  },
  {
   "cell_type": "code",
   "execution_count": 9,
   "metadata": {},
   "outputs": [],
   "source": [
    "# -------------------------------\n",
    "# now we add the two systems together.\n",
    "# Add noise to the pulse traing\n",
    "main_trace = main_trace + main_train\n",
    "\n",
    "main_trace = pn.addNoiseToPulseTrain(main_trace,1/PW)\n"
   ]
  },
  {
   "cell_type": "markdown",
   "metadata": {},
   "source": [
    "## DETECTION method"
   ]
  },
  {
   "cell_type": "code",
   "execution_count": 10,
   "metadata": {},
   "outputs": [],
   "source": [
    "# -------------------------------\n",
    "# Detection Section\n",
    "# Envelope detect the signals\n",
    "main_trace_env = det.envelope(main_trace)\n",
    "\n",
    "# -------------------------------\n",
    "# Gate the signal & sum them up for \n",
    "# provide n observation effects\n",
    "n_obs_main_trace_env = main_trace_env.reshape(K_pulses+1, len_PRI)\n",
    "# add them all together\n",
    "n_obs_main_trace_env = n_obs_main_trace_env.sum(axis=0)\n"
   ]
  },
  {
   "cell_type": "markdown",
   "metadata": {},
   "source": [
    "# 1.Probablity of False Positive "
   ]
  },
  {
   "cell_type": "code",
   "execution_count": 11,
   "metadata": {},
   "outputs": [
    {
     "name": "stdout",
     "output_type": "stream",
     "text": [
      "False_pro is 0.04232921962320499\n"
     ]
    }
   ],
   "source": [
    "import math\n",
    "SNR=1\n",
    "n=10\n",
    "False_pro=math.exp(-SNR*math.sqrt(n))\n",
    "print('False_pro is {}'.format(False_pro))"
   ]
  },
  {
   "cell_type": "markdown",
   "metadata": {},
   "source": [
    "# 2.Find noise floor from data"
   ]
  },
  {
   "cell_type": "code",
   "execution_count": 12,
   "metadata": {},
   "outputs": [
    {
     "name": "stdout",
     "output_type": "stream",
     "text": [
      "Noise Floor at -106.94752853967715 dBm\n"
     ]
    }
   ],
   "source": [
    "from scipy import stats\n",
    "import statistics\n",
    "from statistics import median\n",
    "from scipy.signal import find_peaks\n",
    "\n",
    "NF=statistics.median([n_obs_main_trace_env])\n",
    "NFdBm = np.average(10*np.log10(np.abs(n_obs_main_trace_env)/1e-3))\n",
    "print('Noise Floor at {} dBm'.format(NFdBm))\n",
    "\n"
   ]
  },
  {
   "cell_type": "markdown",
   "metadata": {},
   "source": [
    "# 3.SNR Threshold function"
   ]
  },
  {
   "cell_type": "code",
   "execution_count": 13,
   "metadata": {},
   "outputs": [
    {
     "name": "stdout",
     "output_type": "stream",
     "text": [
      "threshold at -102.42052311596217 dBm\n"
     ]
    }
   ],
   "source": [
    "S_max=-NFdBm*np.log(False_pro)/math.sqrt(n)\n",
    "threshold=(1-False_pro)*S_max\n",
    "print('threshold at {} dBm'.format(threshold))\n"
   ]
  },
  {
   "cell_type": "code",
   "execution_count": 14,
   "metadata": {
    "scrolled": true
   },
   "outputs": [
    {
     "data": {
      "text/plain": [
       "Text(0, 0.5, 'Power in dbm')"
      ]
     },
     "execution_count": 14,
     "metadata": {},
     "output_type": "execute_result"
    },
    {
     "data": {
      "image/png": "[encoded data removed]",
      "text/plain": [
       "<Figure size 432x288 with 1 Axes>"
      ]
     },
     "metadata": {
      "needs_background": "light"
     },
     "output_type": "display_data"
    }
   ],
   "source": [
    "nsamps = len(n_obs_main_trace_env)\n",
    "x = np.linspace(0,R_unamb, nsamps)\n",
    "dx = R_unamb/(len(n_obs_main_trace_env))\n",
    "\n",
    "power_dbm=10*np.log10(n_obs_main_trace_env/1e-3)\n",
    "\n",
    "plt.plot(x/1e3, power_dbm)\n",
    "plt.title('This is convert plot to dBm')\n",
    "plt.xlabel('Distance in km')\n",
    "plt.ylabel('Power in dbm')"
   ]
  },
  {
   "cell_type": "markdown",
   "metadata": {},
   "source": [
    "# 4.Report number of targets and distance"
   ]
  },
  {
   "cell_type": "code",
   "execution_count": 15,
   "metadata": {
    "scrolled": true
   },
   "outputs": [
    {
     "data": {
      "text/plain": [
       "Text(0, 0.5, 'Power in dbm')"
      ]
     },
     "execution_count": 15,
     "metadata": {},
     "output_type": "execute_result"
    },
    {
     "data": {
      "image/png": "[encoded data removed]",
      "text/plain": [
       "<Figure size 432x288 with 1 Axes>"
      ]
     },
     "metadata": {
      "needs_background": "light"
     },
     "output_type": "display_data"
    }
   ],
   "source": [
    "\n",
    "peaks, _ = find_peaks(power_dbm, height=threshold,distance=10e3)\n",
    "\n",
    "plt.plot(x/1e3, power_dbm)\n",
    "plt.plot(peaks*dx/1e3,power_dbm[peaks], \"x\")\n",
    "plt.title('This is find peaks')\n",
    "plt.xlabel('Distance in km')\n",
    "plt.ylabel('Power in dbm')"
   ]
  },
  {
   "cell_type": "code",
   "execution_count": 18,
   "metadata": {},
   "outputs": [
    {
     "name": "stdout",
     "output_type": "stream",
     "text": [
      "11 Targets found above -102.42052311596217 dBm threshold:\n",
      "These are their distance(km):\n",
      "[1.87500000e-03 4.88268750e+01 5.72838750e+01 7.66867500e+01\n",
      " 7.85625000e+01 8.99137500e+01 9.43888125e+01 1.06291875e+02\n",
      " 1.17538875e+02 1.35537750e+02 2.99996625e+02]\n",
      "\n",
      "\n",
      "\n",
      "peaks:\n",
      "[-86.38971163 -83.97586882 -78.46991618 -82.35399443 -84.14204728\n",
      " -72.42916714 -68.42552597 -82.36124662 -77.72046592 -79.86250198\n",
      " -99.30880873]\n"
     ]
    }
   ],
   "source": [
    "print('{} Targets found above {} dBm threshold:'.format(len(peaks),threshold))\n",
    "print('These are their distance(km):')\n",
    "print(peaks*dx/1e3)\n",
    "print('')\n",
    "print('')\n",
    "print('')\n",
    "print('peaks:')\n",
    "print(power_dbm[peaks])\n",
    "\n",
    "\n",
    "\n"
   ]
  },
  {
   "cell_type": "markdown",
   "metadata": {},
   "source": [
    "# HW:\n",
    "This homework is for getting familiar with interacting with data. You are going to write a few functions. The functions that you are writing are relively simple. The basic simulator is supplied. I suggest you exercise it change a few functions. You have two method of adding funtions. You can either add them near the top in the #Custom Fuction# block or in the <i><b>LastName.py</b></i> file \n",
    "\n",
    "\n",
    "## Jupyter Modifications \n",
    "1. Add probablity of detection function\n",
    "1. Add fuction to detect/generate new noise floor after gating and summing\n",
    "1. Use probability of detection function to determine threshold\n",
    "1. What is last peak? \n",
    "1. Convert plot to dBm\n",
    "1. Replace find_peaks with a thresholding function\n",
    "\n",
    "## Functions to add\n",
    "1. Probablity of False Positive \n",
    "1. Find noise floor from data\n",
    "1. SNR Threshold function\n",
    "1. Report number of targets and distance"
   ]
  },
  {
   "cell_type": "code",
   "execution_count": null,
   "metadata": {},
   "outputs": [],
   "source": []
  },
  {
   "cell_type": "code",
   "execution_count": null,
   "metadata": {},
   "outputs": [],
   "source": []
  }
 ],
 "metadata": {
  "kernelspec": {
   "display_name": "Python 3",
   "language": "python",
   "name": "python3"
  },
  "language_info": {
   "codemirror_mode": {
    "name": "ipython",
    "version": 3
   },
   "file_extension": ".py",
   "mimetype": "text/x-python",
   "name": "python",
   "nbconvert_exporter": "python",
   "pygments_lexer": "ipython3",
   "version": "3.7.4"
  }
 },
 "nbformat": 4,
 "nbformat_minor": 2
}
